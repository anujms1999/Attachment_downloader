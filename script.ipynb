{
 "cells": [
  {
   "cell_type": "code",
   "execution_count": 27,
   "metadata": {},
   "outputs": [],
   "source": [
    "import imaplib\n",
    "import base64\n",
    "import os\n",
    "import email\n",
    "\n",
    "email_user = input('your username')\n",
    "email_pass = input('your password')\n",
    "\n",
    "mail = imaplib.IMAP4_SSL('qasid.iitk.ac.in')\n",
    "mail.login(email_user, email_pass)\n",
    "mail.select('INBOX')\n",
    "\n",
    "type, data = mail.search(None, '(FROM \"Subhra Sankar Dhar\")')\n",
    "\n",
    "\n"
   ]
  },
  {
   "cell_type": "code",
   "execution_count": 28,
   "metadata": {},
   "outputs": [
    {
     "name": "stdout",
     "output_type": "stream",
     "text": [
      "[b'5953 5968 5971 5972 5977 6000 6001 6002 6017 6019 6023 6031 6049 6050 6053 6062 6063 6069 6070 6075 6086 6090 6095 6101 6111 6120 6140 6141 6152 6160 6161 6162 6165 6172 6180 6189 6191 6192 6207 6218 6219 6222 6223 6235 6240 6249 6267 6269 6273 6278 6285 6286 6291 6300 6304 6306 6307 6308 6311 6321 6338 6339 6346 6350 6360 6379 6380 6408 6419 6447 6475 6476 6478 6489 6502 6504 6508 6510 6522 6524 6527 6532 6533 6537 6544 6545']\n"
     ]
    }
   ],
   "source": [
    "print(data)\n",
    "emails = data[0].split()\n",
    "download_folder = '/Users/anujshah/mso201/attachments'"
   ]
  },
  {
   "cell_type": "code",
   "execution_count": null,
   "metadata": {},
   "outputs": [
    {
     "name": "stdout",
     "output_type": "stream",
     "text": [
      "OK\n",
      "OK\n",
      "OK\n",
      "OK\n",
      "OK\n",
      "OK\n",
      "OK\n",
      "OK\n",
      "OK\n",
      "OK\n",
      "OK\n",
      "OK\n",
      "OK\n",
      "OK\n",
      "OK\n",
      "OK\n",
      "OK\n",
      "OK\n",
      "OK\n",
      "OK\n",
      "OK\n",
      "OK\n",
      "OK\n",
      "OK\n",
      "OK\n",
      "OK\n",
      "OK\n",
      "OK\n",
      "OK\n",
      "OK\n",
      "OK\n",
      "OK\n",
      "OK\n",
      "OK\n",
      "OK\n",
      "OK\n",
      "OK\n",
      "OK\n",
      "OK\n",
      "OK\n",
      "OK\n",
      "OK\n",
      "OK\n",
      "OK\n",
      "OK\n",
      "OK\n",
      "OK\n",
      "OK\n",
      "OK\n",
      "OK\n",
      "OK\n",
      "OK\n",
      "OK\n",
      "OK\n",
      "OK\n",
      "OK\n",
      "OK\n",
      "OK\n",
      "OK\n",
      "OK\n",
      "OK\n",
      "OK\n",
      "OK\n",
      "OK\n",
      "OK\n",
      "OK\n",
      "OK\n",
      "OK\n"
     ]
    }
   ],
   "source": [
    "for emailid in emails:\n",
    "    resp, content = mail.fetch(emailid, \"(BODY.PEEK[])\")\n",
    "    print(resp)\n",
    "    email_body = content[0][1]\n",
    "    msg = email.message_from_bytes(email_body)\n",
    "    att_path = \"No attachment found.\"\n",
    "    for part in msg.walk():\n",
    "        if part.get_content_maintype() == 'multipart':\n",
    "            continue\n",
    "        if part.get('Content-Disposition') is None:\n",
    "            continue\n",
    "\n",
    "        filename = part.get_filename()\n",
    "        att_path = os.path.join(download_folder, filename)\n",
    "\n",
    "        if not os.path.isfile(att_path):\n",
    "            fp = open(att_path, 'wb')\n",
    "            fp.write(part.get_payload(decode=True))\n",
    "            fp.close()\n"
   ]
  },
  {
   "cell_type": "code",
   "execution_count": null,
   "metadata": {},
   "outputs": [],
   "source": []
  }
 ],
 "metadata": {
  "kernelspec": {
   "display_name": "Python 3",
   "language": "python",
   "name": "python3"
  },
  "language_info": {
   "codemirror_mode": {
    "name": "ipython",
    "version": 3
   },
   "file_extension": ".py",
   "mimetype": "text/x-python",
   "name": "python",
   "nbconvert_exporter": "python",
   "pygments_lexer": "ipython3",
   "version": "3.7.4"
  }
 },
 "nbformat": 4,
 "nbformat_minor": 4
}
